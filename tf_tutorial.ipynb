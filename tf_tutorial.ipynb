{
  "nbformat": 4,
  "nbformat_minor": 0,
  "metadata": {
    "colab": {
      "provenance": [],
      "toc_visible": true,
      "include_colab_link": true
    },
    "kernelspec": {
      "name": "python3",
      "display_name": "Python 3"
    },
    "language_info": {
      "name": "python"
    }
  },
  "cells": [
    {
      "cell_type": "markdown",
      "metadata": {
        "id": "view-in-github",
        "colab_type": "text"
      },
      "source": [
        "<a href=\"https://colab.research.google.com/github/palr17/TestET038A/blob/main/tf_tutorial.ipynb\" target=\"_parent\"><img src=\"https://colab.research.google.com/assets/colab-badge.svg\" alt=\"Open In Colab\"/></a>"
      ]
    },
    {
      "cell_type": "code",
      "execution_count": null,
      "metadata": {
        "id": "-hspxaZ5Chcq"
      },
      "outputs": [],
      "source": []
    },
    {
      "cell_type": "markdown",
      "source": [
        "# Tensorflow Machine Learning Tutorial\n",
        "\n",
        "This tutorial aims to provide a first idea how to implement, train, and evaluate a simple neural network using Tensorflow. We will be using Tensorflow's high-level API: Keras. You can find more information on Keras at https://www.keras.io or on Keras for Tensorflow at https://www.tensorflow.org/guide/keras.\n",
        "\n",
        "In this tutorial, we will be using an internal dataset of small images to train a simple classification model. Throughout the tutorial, you will follow the basic steps of a typical ML project and see the fundamental functions.\n",
        "\n"
      ],
      "metadata": {
        "id": "5D1NALcLCsOE"
      }
    },
    {
      "cell_type": "markdown",
      "source": [
        "## The dataset\n",
        "\n",
        "For this tutorial we are using the fashion MNIST dataset. You might have heard about MNIST before, which is a dataset of handwritten numbers (0-9) and is often used as a basic dataset for learning ML. Fashion MNIST follows the same format, but uses images of Fashion items instead of handwritten numbers, which is a considerably harder problem.\n",
        "\n",
        "The dataset is composed of 70000 grayscale images, each 28 x 28 pixels in size. The dataset contains images of 10 different object, making it a 10-class classification problem.\n",
        "\n",
        "The first thing we need to do is to load the dataset. As the dataset is already included in keras, this is easily done, as shown below."
      ],
      "metadata": {
        "id": "1WgTNUb4FWBi"
      }
    },
    {
      "cell_type": "code",
      "source": [
        "# As we want to use Tensorflow, we of course need to import the Tensorflow module.\n",
        "import tensorflow as tf\n",
        "\n",
        "# We then load the fashion MNIST dataset using keras internal function.\n",
        "fashion_mnist = tf.keras.datasets.fashion_mnist.load_data()"
      ],
      "metadata": {
        "id": "D8w0rjfFGzsu"
      },
      "execution_count": null,
      "outputs": []
    },
    {
      "cell_type": "markdown",
      "source": [
        "The loaded dataset is a tuple, including the image and its label. It also is already randomized and split into a training set and a test set (60000 vs 10000 samples). So we do not have to do this manually.\n",
        "\n",
        "Let us separate these sets and components, and manually split the last 5000 samples of the training set into a validation set."
      ],
      "metadata": {
        "id": "n86Do8swILfX"
      }
    },
    {
      "cell_type": "code",
      "source": [
        "# We assign the training and test part of the set to separate variables and separate the images from the labels\n",
        "(X_train_full, y_train_full), (X_test, y_test) = fashion_mnist\n",
        "\n",
        "# We keep everything but the last 5000 images as training data\n",
        "X_train, y_train = X_train_full[:-5000], y_train_full[:-5000]\n",
        "\n",
        "# The last 5000 samples, we move to a validation set\n",
        "X_valid, y_valid = X_train_full[-5000:], y_train_full[-5000:]"
      ],
      "metadata": {
        "id": "7WXE4xaNJE-D"
      },
      "execution_count": null,
      "outputs": []
    },
    {
      "cell_type": "markdown",
      "source": [
        "Let us have a look at the shape of the data. We can see that each image is a 28 x 28 array. Each value is a uint8 (an 8-bit unsigned integer), which thus has a value of 0-255."
      ],
      "metadata": {
        "id": "UmVRKYqcKHVx"
      }
    },
    {
      "cell_type": "code",
      "source": [
        "X_train.shape"
      ],
      "metadata": {
        "colab": {
          "base_uri": "https://localhost:8080/"
        },
        "id": "ET3nJg6DKrE_",
        "outputId": "825afb0a-e2c3-4ad9-a99f-d9e4f71ede38"
      },
      "execution_count": null,
      "outputs": [
        {
          "output_type": "execute_result",
          "data": {
            "text/plain": [
              "(55000, 28, 28)"
            ]
          },
          "metadata": {},
          "execution_count": 47
        }
      ]
    },
    {
      "cell_type": "code",
      "source": [
        "X_train.dtype"
      ],
      "metadata": {
        "colab": {
          "base_uri": "https://localhost:8080/"
        },
        "id": "qMlxwlIbK2cj",
        "outputId": "ac883545-33f2-447b-c19a-b4f77f012e21"
      },
      "execution_count": null,
      "outputs": [
        {
          "output_type": "execute_result",
          "data": {
            "text/plain": [
              "dtype('uint8')"
            ]
          },
          "metadata": {},
          "execution_count": 48
        }
      ]
    },
    {
      "cell_type": "markdown",
      "source": [
        "Before we create the model, let us do some final adjustments.\n",
        "\n",
        "\n",
        "1.   We will convert the grayscale values into a range from 0-1 to normalize the data.\n",
        "2.   We also create a list of what each class type represents.\n",
        "\n"
      ],
      "metadata": {
        "id": "3Me_X2kKLCYt"
      }
    },
    {
      "cell_type": "code",
      "source": [
        "# Normalize our data by diving each value by 255\n",
        "X_train, X_valid, X_test = X_train/255., X_valid/255., X_test/255."
      ],
      "metadata": {
        "id": "jh5PUdiWLhm1"
      },
      "execution_count": null,
      "outputs": []
    },
    {
      "cell_type": "code",
      "source": [
        "# Create a list of class names to make it easier to understand what we are looking at\n",
        "class_names = [\"T-shirt\", \"Trouser\", \"Pullover\", \"Dress\", \"Coat\", \"Sandal\", \"Shirt\", \"Sneaker\", \"Bag\", \"Boot\"]"
      ],
      "metadata": {
        "id": "xhctCwD1L1cU"
      },
      "execution_count": null,
      "outputs": []
    },
    {
      "cell_type": "code",
      "source": [
        "# Numeric label of the first training sample\n",
        "y_train[0]"
      ],
      "metadata": {
        "colab": {
          "base_uri": "https://localhost:8080/"
        },
        "id": "V3nky7TCMSl-",
        "outputId": "388a17ee-a97d-4e50-eb0a-21df4b36c5d1"
      },
      "execution_count": null,
      "outputs": [
        {
          "output_type": "execute_result",
          "data": {
            "text/plain": [
              "9"
            ]
          },
          "metadata": {},
          "execution_count": 51
        }
      ]
    },
    {
      "cell_type": "code",
      "source": [
        "# Class name of the first training sample\n",
        "class_names[y_train[0]]"
      ],
      "metadata": {
        "colab": {
          "base_uri": "https://localhost:8080/",
          "height": 35
        },
        "id": "FAJ9vR6kMWbv",
        "outputId": "daea4ae6-4926-4638-8265-e1d79781d9a1"
      },
      "execution_count": null,
      "outputs": [
        {
          "output_type": "execute_result",
          "data": {
            "text/plain": [
              "'Boot'"
            ],
            "application/vnd.google.colaboratory.intrinsic+json": {
              "type": "string"
            }
          },
          "metadata": {},
          "execution_count": 52
        }
      ]
    },
    {
      "cell_type": "code",
      "source": [
        "# Let us also have a look at the corresponding image\n",
        "import matplotlib.pyplot as plt\n",
        "plt.imshow(X_train[0], cmap='gray')"
      ],
      "metadata": {
        "colab": {
          "base_uri": "https://localhost:8080/",
          "height": 447
        },
        "id": "xoPl0Af9NH17",
        "outputId": "74b88412-8877-4c03-85b4-e38a6d2db1bc"
      },
      "execution_count": null,
      "outputs": [
        {
          "output_type": "execute_result",
          "data": {
            "text/plain": [
              "<matplotlib.image.AxesImage at 0x7f0e39abb9d0>"
            ]
          },
          "metadata": {},
          "execution_count": 53
        },
        {
          "output_type": "display_data",
          "data": {
            "text/plain": [
              "<Figure size 640x480 with 1 Axes>"
            ],
            "image/png": "[encoded data removed]"
          },
          "metadata": {}
        }
      ]
    },
    {
      "cell_type": "markdown",
      "source": [
        "## Creating a model with the Sequential API\n",
        "\n",
        "Now that we have a dataset to work with, we need to define the model that we want to train.\n",
        "\n",
        "Keras allows to define models in different ways, but one of the simplest and frequently used methods is the so-called Sequential API. This method can be used if we have a single stack of layers that are sequentially connected.\n",
        "\n",
        "Let us define a neural network with two hidden layers, one containing 300 neurons, and the other containing 100 neurons. As we have a 10-class problem, the output layer should contain 10 neurons."
      ],
      "metadata": {
        "id": "aoZSxCcWNsIl"
      }
    },
    {
      "cell_type": "code",
      "source": [
        "tf.random.set_seed(42)\n",
        "model = tf.keras.Sequential()\n",
        "model.add(tf.keras.layers.Input(shape=[28,28]))\n",
        "model.add(tf.keras.layers.Flatten())\n",
        "model.add(tf.keras.layers.Dense(300, activation=\"relu\"))\n",
        "model.add(tf.keras.layers.Dense(100, activation=\"relu\"))\n",
        "model.add(tf.keras.layers.Dense(10, activation=\"softmax\"))"
      ],
      "metadata": {
        "id": "mqHsQ0kxP9nD"
      },
      "execution_count": null,
      "outputs": []
    },
    {
      "cell_type": "markdown",
      "source": [
        "Let's go through this line by line:\n",
        "\n",
        "\n",
        "*   The first line defines a seed for the randomization of initial parameters. This makes the results reproducible as the same \"random\" values will be used every time.\n",
        "*   In the next line, we create the Sequential model.\n",
        "*   We then add the first layer (the input layer), which defines the input shape of the data. This also defines how many weights are needed for each neuron in the coming layer.\n",
        "*   We then use a Flatten layer to convert the 2D arrays into a 1D array. Instead of 28 x 28 pixels, the images are now represented as 1 x 784 pixels. This is necessary because Dense layers expect 1D vectors as inputs.\n",
        "*   In the next two layes we provide hidden layers. As parameters we provide the number of neurons in the layer (300 and 100, respectively), as well as the activation function to be used. In this case, we use the ReLU function.\n",
        "*   Finally, the last Dense layer is our output layer. We provide 10 neurons (1 for each class) and use the softmax activation function. This provides us with a probability value for each class.\n",
        "\n"
      ],
      "metadata": {
        "id": "YSrvgn8lQ_0A"
      }
    },
    {
      "cell_type": "markdown",
      "source": [
        "Instead of adding one layer at a time, we can also provide a list of layers directly when we create the Sequential model. The result is the same and it is up to your personal preference.\n",
        "\n",
        "The following creates the same model as before:"
      ],
      "metadata": {
        "id": "1Ecdkb3PT5KP"
      }
    },
    {
      "cell_type": "code",
      "source": [
        "model = tf.keras.Sequential([\n",
        "    tf.keras.layers.Input(shape=[28,28]),\n",
        "    tf.keras.layers.Flatten(),\n",
        "    tf.keras.layers.Dense(300, activation=\"relu\"),\n",
        "    tf.keras.layers.Dense(100, activation=\"relu\"),\n",
        "    tf.keras.layers.Dense(10, activation=\"softmax\")\n",
        "])"
      ],
      "metadata": {
        "id": "4bKqSuRLUVgs"
      },
      "execution_count": null,
      "outputs": []
    },
    {
      "cell_type": "markdown",
      "source": [
        "Once created, we can use the summary() method to display an overview of the model. The summary shows a list of the model layers (automatically assigning a name if none is provided during creation). It also shows the number of parameters (per layer and total) that have do be trained.\n",
        "\n",
        "This example shows you that dense layers usally lead to many parameters. With 784 pixels as input, the first layers has 784 x 300 weights and 300 bias values, resulting in 235500 parameters."
      ],
      "metadata": {
        "id": "W0t6vEqcY1hm"
      }
    },
    {
      "cell_type": "code",
      "source": [
        "# Show a summary over the created model\n",
        "model.summary()"
      ],
      "metadata": {
        "colab": {
          "base_uri": "https://localhost:8080/",
          "height": 257
        },
        "id": "9OMl1J_io8Zq",
        "outputId": "7cb3ef99-2961-4454-afb9-a8e6482136e0"
      },
      "execution_count": null,
      "outputs": [
        {
          "output_type": "display_data",
          "data": {
            "text/plain": [
              "\u001b[1mModel: \"sequential_6\"\u001b[0m\n"
            ],
            "text/html": [
              "<pre style=\"white-space:pre;overflow-x:auto;line-height:normal;font-family:Menlo,'DejaVu Sans Mono',consolas,'Courier New',monospace\"><span style=\"font-weight: bold\">Model: \"sequential_6\"</span>\n",
              "</pre>\n"
            ]
          },
          "metadata": {}
        },
        {
          "output_type": "display_data",
          "data": {
            "text/plain": [
              "┏━━━━━━━━━━━━━━━━━━━━━━━━━━━━━━━━━━━━━━┳━━━━━━━━━━━━━━━━━━━━━━━━━━━━━┳━━━━━━━━━━━━━━━━━┓\n",
              "┃\u001b[1m \u001b[0m\u001b[1mLayer (type)                        \u001b[0m\u001b[1m \u001b[0m┃\u001b[1m \u001b[0m\u001b[1mOutput Shape               \u001b[0m\u001b[1m \u001b[0m┃\u001b[1m \u001b[0m\u001b[1m        Param #\u001b[0m\u001b[1m \u001b[0m┃\n",
              "┡━━━━━━━━━━━━━━━━━━━━━━━━━━━━━━━━━━━━━━╇━━━━━━━━━━━━━━━━━━━━━━━━━━━━━╇━━━━━━━━━━━━━━━━━┩\n",
              "│ flatten_4 (\u001b[38;5;33mFlatten\u001b[0m)                  │ (\u001b[38;5;45mNone\u001b[0m, \u001b[38;5;34m784\u001b[0m)                 │               \u001b[38;5;34m0\u001b[0m │\n",
              "├──────────────────────────────────────┼─────────────────────────────┼─────────────────┤\n",
              "│ dense_17 (\u001b[38;5;33mDense\u001b[0m)                     │ (\u001b[38;5;45mNone\u001b[0m, \u001b[38;5;34m300\u001b[0m)                 │         \u001b[38;5;34m235,500\u001b[0m │\n",
              "├──────────────────────────────────────┼─────────────────────────────┼─────────────────┤\n",
              "│ dense_18 (\u001b[38;5;33mDense\u001b[0m)                     │ (\u001b[38;5;45mNone\u001b[0m, \u001b[38;5;34m100\u001b[0m)                 │          \u001b[38;5;34m30,100\u001b[0m │\n",
              "├──────────────────────────────────────┼─────────────────────────────┼─────────────────┤\n",
              "│ dense_19 (\u001b[38;5;33mDense\u001b[0m)                     │ (\u001b[38;5;45mNone\u001b[0m, \u001b[38;5;34m10\u001b[0m)                  │           \u001b[38;5;34m1,010\u001b[0m │\n",
              "└──────────────────────────────────────┴─────────────────────────────┴─────────────────┘\n"
            ],
            "text/html": [
              "<pre style=\"white-space:pre;overflow-x:auto;line-height:normal;font-family:Menlo,'DejaVu Sans Mono',consolas,'Courier New',monospace\">┏━━━━━━━━━━━━━━━━━━━━━━━━━━━━━━━━━━━━━━┳━━━━━━━━━━━━━━━━━━━━━━━━━━━━━┳━━━━━━━━━━━━━━━━━┓\n",
              "┃<span style=\"font-weight: bold\"> Layer (type)                         </span>┃<span style=\"font-weight: bold\"> Output Shape                </span>┃<span style=\"font-weight: bold\">         Param # </span>┃\n",
              "┡━━━━━━━━━━━━━━━━━━━━━━━━━━━━━━━━━━━━━━╇━━━━━━━━━━━━━━━━━━━━━━━━━━━━━╇━━━━━━━━━━━━━━━━━┩\n",
              "│ flatten_4 (<span style=\"color: #0087ff; text-decoration-color: #0087ff\">Flatten</span>)                  │ (<span style=\"color: #00d7ff; text-decoration-color: #00d7ff\">None</span>, <span style=\"color: #00af00; text-decoration-color: #00af00\">784</span>)                 │               <span style=\"color: #00af00; text-decoration-color: #00af00\">0</span> │\n",
              "├──────────────────────────────────────┼─────────────────────────────┼─────────────────┤\n",
              "│ dense_17 (<span style=\"color: #0087ff; text-decoration-color: #0087ff\">Dense</span>)                     │ (<span style=\"color: #00d7ff; text-decoration-color: #00d7ff\">None</span>, <span style=\"color: #00af00; text-decoration-color: #00af00\">300</span>)                 │         <span style=\"color: #00af00; text-decoration-color: #00af00\">235,500</span> │\n",
              "├──────────────────────────────────────┼─────────────────────────────┼─────────────────┤\n",
              "│ dense_18 (<span style=\"color: #0087ff; text-decoration-color: #0087ff\">Dense</span>)                     │ (<span style=\"color: #00d7ff; text-decoration-color: #00d7ff\">None</span>, <span style=\"color: #00af00; text-decoration-color: #00af00\">100</span>)                 │          <span style=\"color: #00af00; text-decoration-color: #00af00\">30,100</span> │\n",
              "├──────────────────────────────────────┼─────────────────────────────┼─────────────────┤\n",
              "│ dense_19 (<span style=\"color: #0087ff; text-decoration-color: #0087ff\">Dense</span>)                     │ (<span style=\"color: #00d7ff; text-decoration-color: #00d7ff\">None</span>, <span style=\"color: #00af00; text-decoration-color: #00af00\">10</span>)                  │           <span style=\"color: #00af00; text-decoration-color: #00af00\">1,010</span> │\n",
              "└──────────────────────────────────────┴─────────────────────────────┴─────────────────┘\n",
              "</pre>\n"
            ]
          },
          "metadata": {}
        },
        {
          "output_type": "display_data",
          "data": {
            "text/plain": [
              "\u001b[1m Total params: \u001b[0m\u001b[38;5;34m266,610\u001b[0m (1.02 MB)\n"
            ],
            "text/html": [
              "<pre style=\"white-space:pre;overflow-x:auto;line-height:normal;font-family:Menlo,'DejaVu Sans Mono',consolas,'Courier New',monospace\"><span style=\"font-weight: bold\"> Total params: </span><span style=\"color: #00af00; text-decoration-color: #00af00\">266,610</span> (1.02 MB)\n",
              "</pre>\n"
            ]
          },
          "metadata": {}
        },
        {
          "output_type": "display_data",
          "data": {
            "text/plain": [
              "\u001b[1m Trainable params: \u001b[0m\u001b[38;5;34m266,610\u001b[0m (1.02 MB)\n"
            ],
            "text/html": [
              "<pre style=\"white-space:pre;overflow-x:auto;line-height:normal;font-family:Menlo,'DejaVu Sans Mono',consolas,'Courier New',monospace\"><span style=\"font-weight: bold\"> Trainable params: </span><span style=\"color: #00af00; text-decoration-color: #00af00\">266,610</span> (1.02 MB)\n",
              "</pre>\n"
            ]
          },
          "metadata": {}
        },
        {
          "output_type": "display_data",
          "data": {
            "text/plain": [
              "\u001b[1m Non-trainable params: \u001b[0m\u001b[38;5;34m0\u001b[0m (0.00 B)\n"
            ],
            "text/html": [
              "<pre style=\"white-space:pre;overflow-x:auto;line-height:normal;font-family:Menlo,'DejaVu Sans Mono',consolas,'Courier New',monospace\"><span style=\"font-weight: bold\"> Non-trainable params: </span><span style=\"color: #00af00; text-decoration-color: #00af00\">0</span> (0.00 B)\n",
              "</pre>\n"
            ]
          },
          "metadata": {}
        }
      ]
    },
    {
      "cell_type": "markdown",
      "source": [
        "We can also get a list of the model's layers using the layers method and inspect the weights and biases."
      ],
      "metadata": {
        "id": "arAZt6TJqrV9"
      }
    },
    {
      "cell_type": "code",
      "source": [
        "model.layers"
      ],
      "metadata": {
        "colab": {
          "base_uri": "https://localhost:8080/"
        },
        "id": "LRTYs_Ehq5gg",
        "outputId": "4249c14c-2a43-4293-d4b6-e1e734bbee58"
      },
      "execution_count": null,
      "outputs": [
        {
          "output_type": "execute_result",
          "data": {
            "text/plain": [
              "[<Flatten name=flatten_4, built=True>,\n",
              " <Dense name=dense_17, built=True>,\n",
              " <Dense name=dense_18, built=True>,\n",
              " <Dense name=dense_19, built=True>]"
            ]
          },
          "metadata": {},
          "execution_count": 57
        }
      ]
    },
    {
      "cell_type": "code",
      "source": [
        "weights, biases = model.layers[1].get_weights()\n",
        "weights"
      ],
      "metadata": {
        "colab": {
          "base_uri": "https://localhost:8080/"
        },
        "id": "5NLMn1eurCHh",
        "outputId": "b84f55b4-0cd7-49ab-f197-1144e08f4d19"
      },
      "execution_count": null,
      "outputs": [
        {
          "output_type": "execute_result",
          "data": {
            "text/plain": [
              "array([[ 2.8993405e-02,  2.3139901e-02,  5.7795316e-02, ...,\n",
              "        -4.4160567e-02,  6.5438226e-02, -2.9125307e-02],\n",
              "       [ 3.9382964e-02,  3.3842675e-02, -6.4168513e-02, ...,\n",
              "         5.7488069e-02,  3.4504399e-02,  5.3135052e-02],\n",
              "       [-7.4415654e-04, -1.6630054e-02,  1.7108411e-02, ...,\n",
              "        -4.3466523e-02,  6.5734982e-02,  3.9876185e-02],\n",
              "       ...,\n",
              "       [-2.5021125e-02, -6.2149309e-02,  3.0268781e-02, ...,\n",
              "        -4.5484737e-02,  2.5186263e-02,  2.5679618e-03],\n",
              "       [ 6.7878336e-02,  4.0364191e-02, -3.7635967e-02, ...,\n",
              "         2.4163425e-02,  2.0873338e-02,  2.1077536e-02],\n",
              "       [ 5.8721900e-03, -4.8143409e-02,  6.5505505e-05, ...,\n",
              "        -2.7850203e-02,  6.3508824e-02,  5.3258061e-02]], dtype=float32)"
            ]
          },
          "metadata": {},
          "execution_count": 58
        }
      ]
    },
    {
      "cell_type": "markdown",
      "source": [
        "## Compiling the model\n",
        "\n",
        "Now that we have defined the model, we need to specify a few things before we can train it. To do this we use the compile() method. The most important parts in this are the loss function, the optimizer, and the metrics to be used."
      ],
      "metadata": {
        "id": "rJ7Y00ROrsRF"
      }
    },
    {
      "cell_type": "code",
      "source": [
        "model.compile(loss=\"sparse_categorical_crossentropy\",\n",
        "              optimizer=\"sgd\",\n",
        "              metrics=[\"accuracy\"])"
      ],
      "metadata": {
        "id": "9OpqlASusU0L"
      },
      "execution_count": null,
      "outputs": []
    },
    {
      "cell_type": "markdown",
      "source": [
        "The reason for using \"sparse_categorical_crossentroty\" loss is because we have sparse labels. This means for each target we only define which one is the correct one as classes are exclusive. An alternative way would be to provide the probability for each class value as a list. In this case, we can use \"categorical_crossentropy\" as the loss function.\n",
        "\n",
        "\"sgd\" defines that we use an optimizer called \"Stochastic Gradient Descent\". In this definition we use its default learning rate. But we could provide a specific learning rate by using \"optimizer=tf.keras.optimizers.SGD(learning_rate=1e-3)\" instead.\n",
        "\n",
        "Finally we define that we measure the model accuracy during training."
      ],
      "metadata": {
        "id": "QQrXCgoCsieW"
      }
    },
    {
      "cell_type": "code",
      "source": [],
      "metadata": {
        "id": "FSMB4Xgmuo6Y"
      },
      "execution_count": null,
      "outputs": []
    },
    {
      "cell_type": "markdown",
      "source": [
        "## Training the model\n",
        "\n",
        "It is time to train the model. For this we use the fit() method.\n",
        "\n",
        "We have to provide the data it should be trained on, the data used for validation, as well as for how long we should train the model. This is defined as epochs, where one epoch is one iteration of optimizing the model parameters."
      ],
      "metadata": {
        "id": "siI-YDlDvBRL"
      }
    },
    {
      "cell_type": "code",
      "source": [
        "history = model.fit(X_train, y_train, epochs=30, validation_data=(X_valid, y_valid))"
      ],
      "metadata": {
        "colab": {
          "base_uri": "https://localhost:8080/"
        },
        "id": "vhfcSVkuvfPQ",
        "outputId": "a4949c3d-f812-4110-b9e5-f9b448a126a4"
      },
      "execution_count": null,
      "outputs": [
        {
          "output_type": "stream",
          "name": "stdout",
          "text": [
            "Epoch 1/30\n",
            "\u001b[1m1719/1719\u001b[0m \u001b[32m━━━━━━━━━━━━━━━━━━━━\u001b[0m\u001b[37m\u001b[0m \u001b[1m12s\u001b[0m 6ms/step - accuracy: 0.7862 - loss: 0.6102 - val_accuracy: 0.8332 - val_loss: 0.4249\n",
            "Epoch 2/30\n",
            "\u001b[1m1719/1719\u001b[0m \u001b[32m━━━━━━━━━━━━━━━━━━━━\u001b[0m\u001b[37m\u001b[0m \u001b[1m10s\u001b[0m 6ms/step - accuracy: 0.8633 - loss: 0.3766 - val_accuracy: 0.8436 - val_loss: 0.4018\n",
            "Epoch 3/30\n",
            "\u001b[1m1719/1719\u001b[0m \u001b[32m━━━━━━━━━━━━━━━━━━━━\u001b[0m\u001b[37m\u001b[0m \u001b[1m9s\u001b[0m 5ms/step - accuracy: 0.8762 - loss: 0.3318 - val_accuracy: 0.8460 - val_loss: 0.4088\n",
            "Epoch 4/30\n",
            "\u001b[1m1719/1719\u001b[0m \u001b[32m━━━━━━━━━━━━━━━━━━━━\u001b[0m\u001b[37m\u001b[0m \u001b[1m12s\u001b[0m 6ms/step - accuracy: 0.8862 - loss: 0.3049 - val_accuracy: 0.8574 - val_loss: 0.3856\n",
            "Epoch 5/30\n",
            "\u001b[1m1719/1719\u001b[0m \u001b[32m━━━━━━━━━━━━━━━━━━━━\u001b[0m\u001b[37m\u001b[0m \u001b[1m10s\u001b[0m 6ms/step - accuracy: 0.8951 - loss: 0.2832 - val_accuracy: 0.8584 - val_loss: 0.3840\n",
            "Epoch 6/30\n",
            "\u001b[1m1719/1719\u001b[0m \u001b[32m━━━━━━━━━━━━━━━━━━━━\u001b[0m\u001b[37m\u001b[0m \u001b[1m9s\u001b[0m 5ms/step - accuracy: 0.8995 - loss: 0.2671 - val_accuracy: 0.8648 - val_loss: 0.3809\n",
            "Epoch 7/30\n",
            "\u001b[1m1719/1719\u001b[0m \u001b[32m━━━━━━━━━━━━━━━━━━━━\u001b[0m\u001b[37m\u001b[0m \u001b[1m10s\u001b[0m 5ms/step - accuracy: 0.9042 - loss: 0.2531 - val_accuracy: 0.8714 - val_loss: 0.3624\n",
            "Epoch 8/30\n",
            "\u001b[1m1719/1719\u001b[0m \u001b[32m━━━━━━━━━━━━━━━━━━━━\u001b[0m\u001b[37m\u001b[0m \u001b[1m10s\u001b[0m 6ms/step - accuracy: 0.9087 - loss: 0.2420 - val_accuracy: 0.8642 - val_loss: 0.3990\n",
            "Epoch 9/30\n",
            "\u001b[1m1719/1719\u001b[0m \u001b[32m━━━━━━━━━━━━━━━━━━━━\u001b[0m\u001b[37m\u001b[0m \u001b[1m10s\u001b[0m 6ms/step - accuracy: 0.9143 - loss: 0.2263 - val_accuracy: 0.8762 - val_loss: 0.3678\n",
            "Epoch 10/30\n",
            "\u001b[1m1719/1719\u001b[0m \u001b[32m━━━━━━━━━━━━━━━━━━━━\u001b[0m\u001b[37m\u001b[0m \u001b[1m10s\u001b[0m 6ms/step - accuracy: 0.9186 - loss: 0.2149 - val_accuracy: 0.8782 - val_loss: 0.3853\n",
            "Epoch 11/30\n",
            "\u001b[1m1719/1719\u001b[0m \u001b[32m━━━━━━━━━━━━━━━━━━━━\u001b[0m\u001b[37m\u001b[0m \u001b[1m11s\u001b[0m 6ms/step - accuracy: 0.9211 - loss: 0.2051 - val_accuracy: 0.8766 - val_loss: 0.3768\n",
            "Epoch 12/30\n",
            "\u001b[1m1719/1719\u001b[0m \u001b[32m━━━━━━━━━━━━━━━━━━━━\u001b[0m\u001b[37m\u001b[0m \u001b[1m11s\u001b[0m 6ms/step - accuracy: 0.9234 - loss: 0.2007 - val_accuracy: 0.8742 - val_loss: 0.4035\n",
            "Epoch 13/30\n",
            "\u001b[1m1719/1719\u001b[0m \u001b[32m━━━━━━━━━━━━━━━━━━━━\u001b[0m\u001b[37m\u001b[0m \u001b[1m11s\u001b[0m 7ms/step - accuracy: 0.9273 - loss: 0.1905 - val_accuracy: 0.8764 - val_loss: 0.4030\n",
            "Epoch 14/30\n",
            "\u001b[1m1719/1719\u001b[0m \u001b[32m━━━━━━━━━━━━━━━━━━━━\u001b[0m\u001b[37m\u001b[0m \u001b[1m12s\u001b[0m 7ms/step - accuracy: 0.9296 - loss: 0.1836 - val_accuracy: 0.8752 - val_loss: 0.4114\n",
            "Epoch 15/30\n",
            "\u001b[1m1719/1719\u001b[0m \u001b[32m━━━━━━━━━━━━━━━━━━━━\u001b[0m\u001b[37m\u001b[0m \u001b[1m10s\u001b[0m 6ms/step - accuracy: 0.9333 - loss: 0.1752 - val_accuracy: 0.8776 - val_loss: 0.4147\n",
            "Epoch 16/30\n",
            "\u001b[1m1719/1719\u001b[0m \u001b[32m━━━━━━━━━━━━━━━━━━━━\u001b[0m\u001b[37m\u001b[0m \u001b[1m10s\u001b[0m 6ms/step - accuracy: 0.9345 - loss: 0.1708 - val_accuracy: 0.8788 - val_loss: 0.4179\n",
            "Epoch 17/30\n",
            "\u001b[1m1719/1719\u001b[0m \u001b[32m━━━━━━━━━━━━━━━━━━━━\u001b[0m\u001b[37m\u001b[0m \u001b[1m11s\u001b[0m 7ms/step - accuracy: 0.9369 - loss: 0.1618 - val_accuracy: 0.8708 - val_loss: 0.4468\n",
            "Epoch 18/30\n",
            "\u001b[1m1719/1719\u001b[0m \u001b[32m━━━━━━━━━━━━━━━━━━━━\u001b[0m\u001b[37m\u001b[0m \u001b[1m11s\u001b[0m 6ms/step - accuracy: 0.9371 - loss: 0.1611 - val_accuracy: 0.8760 - val_loss: 0.4479\n",
            "Epoch 19/30\n",
            "\u001b[1m1719/1719\u001b[0m \u001b[32m━━━━━━━━━━━━━━━━━━━━\u001b[0m\u001b[37m\u001b[0m \u001b[1m18s\u001b[0m 5ms/step - accuracy: 0.9395 - loss: 0.1525 - val_accuracy: 0.8716 - val_loss: 0.4614\n",
            "Epoch 20/30\n",
            "\u001b[1m1719/1719\u001b[0m \u001b[32m━━━━━━━━━━━━━━━━━━━━\u001b[0m\u001b[37m\u001b[0m \u001b[1m12s\u001b[0m 6ms/step - accuracy: 0.9406 - loss: 0.1521 - val_accuracy: 0.8806 - val_loss: 0.4822\n",
            "Epoch 21/30\n",
            "\u001b[1m1719/1719\u001b[0m \u001b[32m━━━━━━━━━━━━━━━━━━━━\u001b[0m\u001b[37m\u001b[0m \u001b[1m10s\u001b[0m 6ms/step - accuracy: 0.9434 - loss: 0.1464 - val_accuracy: 0.8802 - val_loss: 0.4730\n",
            "Epoch 22/30\n",
            "\u001b[1m1719/1719\u001b[0m \u001b[32m━━━━━━━━━━━━━━━━━━━━\u001b[0m\u001b[37m\u001b[0m \u001b[1m10s\u001b[0m 6ms/step - accuracy: 0.9452 - loss: 0.1416 - val_accuracy: 0.8714 - val_loss: 0.5071\n",
            "Epoch 23/30\n",
            "\u001b[1m1719/1719\u001b[0m \u001b[32m━━━━━━━━━━━━━━━━━━━━\u001b[0m\u001b[37m\u001b[0m \u001b[1m10s\u001b[0m 6ms/step - accuracy: 0.9483 - loss: 0.1329 - val_accuracy: 0.8728 - val_loss: 0.5159\n",
            "Epoch 24/30\n",
            "\u001b[1m1719/1719\u001b[0m \u001b[32m━━━━━━━━━━━━━━━━━━━━\u001b[0m\u001b[37m\u001b[0m \u001b[1m10s\u001b[0m 6ms/step - accuracy: 0.9475 - loss: 0.1379 - val_accuracy: 0.8832 - val_loss: 0.4959\n",
            "Epoch 25/30\n",
            "\u001b[1m1719/1719\u001b[0m \u001b[32m━━━━━━━━━━━━━━━━━━━━\u001b[0m\u001b[37m\u001b[0m \u001b[1m11s\u001b[0m 6ms/step - accuracy: 0.9484 - loss: 0.1320 - val_accuracy: 0.8714 - val_loss: 0.5373\n",
            "Epoch 26/30\n",
            "\u001b[1m1719/1719\u001b[0m \u001b[32m━━━━━━━━━━━━━━━━━━━━\u001b[0m\u001b[37m\u001b[0m \u001b[1m10s\u001b[0m 6ms/step - accuracy: 0.9485 - loss: 0.1290 - val_accuracy: 0.8788 - val_loss: 0.5318\n",
            "Epoch 27/30\n",
            "\u001b[1m1719/1719\u001b[0m \u001b[32m━━━━━━━━━━━━━━━━━━━━\u001b[0m\u001b[37m\u001b[0m \u001b[1m8s\u001b[0m 5ms/step - accuracy: 0.9518 - loss: 0.1228 - val_accuracy: 0.8770 - val_loss: 0.5489\n",
            "Epoch 28/30\n",
            "\u001b[1m1719/1719\u001b[0m \u001b[32m━━━━━━━━━━━━━━━━━━━━\u001b[0m\u001b[37m\u001b[0m \u001b[1m10s\u001b[0m 6ms/step - accuracy: 0.9538 - loss: 0.1208 - val_accuracy: 0.8816 - val_loss: 0.5739\n",
            "Epoch 29/30\n",
            "\u001b[1m1719/1719\u001b[0m \u001b[32m━━━━━━━━━━━━━━━━━━━━\u001b[0m\u001b[37m\u001b[0m \u001b[1m10s\u001b[0m 6ms/step - accuracy: 0.9515 - loss: 0.1227 - val_accuracy: 0.8802 - val_loss: 0.5947\n",
            "Epoch 30/30\n",
            "\u001b[1m1719/1719\u001b[0m \u001b[32m━━━━━━━━━━━━━━━━━━━━\u001b[0m\u001b[37m\u001b[0m \u001b[1m11s\u001b[0m 6ms/step - accuracy: 0.9553 - loss: 0.1159 - val_accuracy: 0.8806 - val_loss: 0.6428\n"
          ]
        }
      ]
    },
    {
      "cell_type": "markdown",
      "source": [
        "## Evaluating the model\n",
        "\n",
        "Already during the training process, we can see a couple of values that help us to determine how the model is doing. After each epoch, we see the current training accuracy (i.e., how well does the model perform on the training set), as well as teh validation accuracy (i.e., how well does the model perform on some new data). Accuracy increases during training, which is a good sign. After the last epoch, the training accuracy is lightly higher than the validation accuracy, which means that there is some overfitting, but not too bad.\n",
        "\n",
        "The fit method returns a History object, which contains the training parameters, the epochs, and the metrics that were measured at the end of each epoch.\n",
        "\n",
        "We can use the latter to plot the learning curve."
      ],
      "metadata": {
        "id": "3XeCVAWoxBGE"
      }
    },
    {
      "cell_type": "code",
      "source": [
        "import pandas as pd\n",
        "\n",
        "pd.DataFrame(history.history).plot(\n",
        "    figsize=(8,5), xlim=[0,29], ylim=[0,1], grid=True, xlabel=\"Epoch\", style=[\"r--\", \"r--.\", \"b-\", \"b-*\"]\n",
        ")\n",
        "plt.show()"
      ],
      "metadata": {
        "colab": {
          "base_uri": "https://localhost:8080/",
          "height": 470
        },
        "id": "_OuLn7R4yPP5",
        "outputId": "d9262f76-e9ff-4e30-cbf6-79bd258e47ed"
      },
      "execution_count": null,
      "outputs": [
        {
          "output_type": "display_data",
          "data": {
            "text/plain": [
              "<Figure size 800x500 with 1 Axes>"
            ],
            "image/png": "[encoded data removed]"
          },
          "metadata": {}
        }
      ]
    },
    {
      "cell_type": "markdown",
      "source": [
        "To evaluate the model on the final test set, we use the evaluate() method. As parameters we just provide the test set.\n",
        "\n",
        "Remember that this is only for your final evaluation. This performance estimation should never be used to further tweak the model."
      ],
      "metadata": {
        "id": "A0eU26gVzmJ5"
      }
    },
    {
      "cell_type": "code",
      "source": [
        "model.evaluate(X_test, y_test)"
      ],
      "metadata": {
        "colab": {
          "base_uri": "https://localhost:8080/"
        },
        "id": "lDc0uc670n-8",
        "outputId": "8e45be13-745d-4648-ce9c-912cd3f555c0"
      },
      "execution_count": null,
      "outputs": [
        {
          "output_type": "stream",
          "name": "stdout",
          "text": [
            "\u001b[1m313/313\u001b[0m \u001b[32m━━━━━━━━━━━━━━━━━━━━\u001b[0m\u001b[37m\u001b[0m \u001b[1m1s\u001b[0m 2ms/step - accuracy: 0.8776 - loss: 0.6478\n"
          ]
        },
        {
          "output_type": "execute_result",
          "data": {
            "text/plain": [
              "[0.6751046180725098, 0.8766999840736389]"
            ]
          },
          "metadata": {},
          "execution_count": 62
        }
      ]
    },
    {
      "cell_type": "markdown",
      "source": [
        "The model also has a predict() method that we can use to make predictions with the newly generated model.\n",
        "\n",
        "As we have used all our data, we can just use some samples to make a prediction."
      ],
      "metadata": {
        "id": "uI-fx6Bf05Xa"
      }
    },
    {
      "cell_type": "code",
      "source": [
        "# Take the first three samples of the test set as our \"new\" data\n",
        "X_new = X_test[:3]\n",
        "# Make predictions for these three values\n",
        "y_result = model.predict(X_new)\n",
        "# Show the results (rounded to two decimals)\n",
        "y_result.round(2)"
      ],
      "metadata": {
        "colab": {
          "base_uri": "https://localhost:8080/"
        },
        "id": "RenSIptT1Mii",
        "outputId": "c7873953-9e5a-431d-bb16-6bd6a2959501"
      },
      "execution_count": null,
      "outputs": [
        {
          "output_type": "stream",
          "name": "stdout",
          "text": [
            "\u001b[1m1/1\u001b[0m \u001b[32m━━━━━━━━━━━━━━━━━━━━\u001b[0m\u001b[37m\u001b[0m \u001b[1m0s\u001b[0m 63ms/step\n"
          ]
        },
        {
          "output_type": "execute_result",
          "data": {
            "text/plain": [
              "array([[0., 0., 0., 0., 0., 0., 0., 0., 0., 1.],\n",
              "       [0., 0., 1., 0., 0., 0., 0., 0., 0., 0.],\n",
              "       [0., 1., 0., 0., 0., 0., 0., 0., 0., 0.]], dtype=float32)"
            ]
          },
          "metadata": {},
          "execution_count": 63
        }
      ]
    },
    {
      "cell_type": "markdown",
      "source": [
        "The result is a list of class probabilities.\n",
        "\n",
        "Let us convert this into single class predictions:"
      ],
      "metadata": {
        "id": "xfpbRbFI18hP"
      }
    },
    {
      "cell_type": "code",
      "source": [
        "import numpy as np\n",
        "\n",
        "y_pred = y_result.argmax(axis=-1)\n",
        "np.array(class_names)[y_pred]"
      ],
      "metadata": {
        "colab": {
          "base_uri": "https://localhost:8080/"
        },
        "id": "rqrufo0K2Edm",
        "outputId": "94ae5865-bea7-46f8-f817-e2adc51e437c"
      },
      "execution_count": null,
      "outputs": [
        {
          "output_type": "execute_result",
          "data": {
            "text/plain": [
              "array(['Boot', 'Pullover', 'Trouser'], dtype='<U8')"
            ]
          },
          "metadata": {},
          "execution_count": 64
        }
      ]
    },
    {
      "cell_type": "code",
      "source": [
        "f, axarr = plt.subplots(1,3)\n",
        "axarr[0].imshow(X_new[0], cmap='gray')\n",
        "axarr[1].imshow(X_new[1], cmap='gray')\n",
        "axarr[2].imshow(X_new[2], cmap='gray')"
      ],
      "metadata": {
        "colab": {
          "base_uri": "https://localhost:8080/",
          "height": 226
        },
        "id": "RvXahAvl24qG",
        "outputId": "8a913d6c-0e32-4d8b-aad8-8a5cd0336de8"
      },
      "execution_count": null,
      "outputs": [
        {
          "output_type": "execute_result",
          "data": {
            "text/plain": [
              "<matplotlib.image.AxesImage at 0x7f0e3940a0b0>"
            ]
          },
          "metadata": {},
          "execution_count": 65
        },
        {
          "output_type": "display_data",
          "data": {
            "text/plain": [
              "<Figure size 640x480 with 3 Axes>"
            ],
            "image/png": "[encoded data removed]"
          },
          "metadata": {}
        }
      ]
    },
    {
      "cell_type": "markdown",
      "source": [
        "## Saving the model\n",
        "\n",
        "We can save the model in different formats for reuse at a later time."
      ],
      "metadata": {
        "id": "RkuLIqP63opy"
      }
    },
    {
      "cell_type": "code",
      "source": [
        "model.save(\"my_model.keras\")"
      ],
      "metadata": {
        "id": "WmGfXSfq4VDr"
      },
      "execution_count": null,
      "outputs": []
    },
    {
      "cell_type": "code",
      "source": [
        "model = tf.keras.models.load_model(\"my_model.keras\")"
      ],
      "metadata": {
        "id": "hnhi_N-E4eGT"
      },
      "execution_count": null,
      "outputs": []
    },
    {
      "cell_type": "markdown",
      "source": [
        "## Optimizing your model\n",
        "\n",
        "There are a number of hyperparameters that can be tuned to improve the model performance. This can be done manually or in a more automated manner.\n",
        "\n",
        "Try for example to change the learning rate or the network configuration and see how it affects the performance of the model on the validation set (do not optimize to improve the test set).\n",
        "\n",
        "There are a number of ways to automate parameter optimization. Keras has its own tool named Keras Tuner. It uses an optimization algorithm to fine tune the hyperparameters."
      ],
      "metadata": {
        "id": "PJbwwXg1c2h9"
      }
    }
  ]
}